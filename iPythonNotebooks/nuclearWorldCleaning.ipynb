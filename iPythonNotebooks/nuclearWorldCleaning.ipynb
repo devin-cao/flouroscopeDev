{
 "metadata": {
  "name": "",
  "signature": "sha256:6194b9f2283134eba16dff8f7f6818c9371f4ee0d298c22a54614fe9de93d2f6"
 },
 "nbformat": 3,
 "nbformat_minor": 0,
 "worksheets": [
  {
   "cells": [
    {
     "cell_type": "markdown",
     "metadata": {},
     "source": [
      "# World Nuclear Reactors\n",
      "---\n",
      "### Data from http://world-nuclear.org/NuclearDatabase/rdResults.aspx?id=27569\n",
      "---"
     ]
    },
    {
     "cell_type": "code",
     "collapsed": false,
     "input": [
      "from pandas import read_csv\n",
      "import pandas as pd\n",
      "data = read_csv(\"data/originalDatasets/nuclearReactorsWorld.csv\")\n",
      "data.head()"
     ],
     "language": "python",
     "metadata": {},
     "outputs": [
      {
       "html": [
        "<div style=\"max-height:1000px;max-width:1500px;overflow:auto;\">\n",
        "<table border=\"1\" class=\"dataframe\">\n",
        "  <thead>\n",
        "    <tr style=\"text-align: right;\">\n",
        "      <th></th>\n",
        "      <th>Facility</th>\n",
        "      <th>Location</th>\n",
        "      <th>Process</th>\n",
        "      <th>Capacity MWe net</th>\n",
        "      <th>Current Status</th>\n",
        "      <th>Start Year</th>\n",
        "      <th>Owner</th>\n",
        "      <th>Country</th>\n",
        "      <th>ISO country code</th>\n",
        "    </tr>\n",
        "  </thead>\n",
        "  <tbody>\n",
        "    <tr>\n",
        "      <th>0</th>\n",
        "      <td>             Atucha-1</td>\n",
        "      <td>  -33.9669, -59.2086</td>\n",
        "      <td>     PHWR</td>\n",
        "      <td> 335</td>\n",
        "      <td> Operating</td>\n",
        "      <td> 1974</td>\n",
        "      <td>            Nucleoelectrica Argentina SA</td>\n",
        "      <td> Argentina</td>\n",
        "      <td> AR</td>\n",
        "    </tr>\n",
        "    <tr>\n",
        "      <th>1</th>\n",
        "      <td>              Embalse</td>\n",
        "      <td>  -32.2315, -64.4423</td>\n",
        "      <td>     PHWR</td>\n",
        "      <td> 600</td>\n",
        "      <td> Operating</td>\n",
        "      <td> 1984</td>\n",
        "      <td>            Nucleoelectrica Argentina SA</td>\n",
        "      <td> Argentina</td>\n",
        "      <td> AR</td>\n",
        "    </tr>\n",
        "    <tr>\n",
        "      <th>2</th>\n",
        "      <td> Armenia-2 (Metsamor)</td>\n",
        "      <td>    40.1813, 44.1472</td>\n",
        "      <td> PWR/VVER</td>\n",
        "      <td> 376</td>\n",
        "      <td> Operating</td>\n",
        "      <td> 1980</td>\n",
        "      <td>                         JSC Armenia NPP</td>\n",
        "      <td>   Armenia</td>\n",
        "      <td> AM</td>\n",
        "    </tr>\n",
        "    <tr>\n",
        "      <th>3</th>\n",
        "      <td>               Doel-1</td>\n",
        "      <td>    51.3227, 4.25868</td>\n",
        "      <td>      PWR</td>\n",
        "      <td> 392</td>\n",
        "      <td> Operating</td>\n",
        "      <td> 1975</td>\n",
        "      <td> Indivision Doel (EBES, INTERCOM, UNERG)</td>\n",
        "      <td>   Belgium</td>\n",
        "      <td> BE</td>\n",
        "    </tr>\n",
        "    <tr>\n",
        "      <th>4</th>\n",
        "      <td>               Doel-2</td>\n",
        "      <td>    51.3227, 4.25919</td>\n",
        "      <td>      PWR</td>\n",
        "      <td> 392</td>\n",
        "      <td> Operating</td>\n",
        "      <td> 1975</td>\n",
        "      <td> Indivision Doel (EBES, INTERCOM, UNERG)</td>\n",
        "      <td>   Belgium</td>\n",
        "      <td> BE</td>\n",
        "    </tr>\n",
        "  </tbody>\n",
        "</table>\n",
        "</div>"
       ],
       "metadata": {},
       "output_type": "pyout",
       "prompt_number": 2,
       "text": [
        "               Facility             Location   Process  Capacity MWe net  \\\n",
        "0              Atucha-1   -33.9669, -59.2086      PHWR               335   \n",
        "1               Embalse   -32.2315, -64.4423      PHWR               600   \n",
        "2  Armenia-2 (Metsamor)     40.1813, 44.1472  PWR/VVER               376   \n",
        "3                Doel-1     51.3227, 4.25868       PWR               392   \n",
        "4                Doel-2     51.3227, 4.25919       PWR               392   \n",
        "\n",
        "  Current Status  Start Year                                    Owner  \\\n",
        "0      Operating        1974             Nucleoelectrica Argentina SA   \n",
        "1      Operating        1984             Nucleoelectrica Argentina SA   \n",
        "2      Operating        1980                          JSC Armenia NPP   \n",
        "3      Operating        1975  Indivision Doel (EBES, INTERCOM, UNERG)   \n",
        "4      Operating        1975  Indivision Doel (EBES, INTERCOM, UNERG)   \n",
        "\n",
        "     Country ISO country code  \n",
        "0  Argentina               AR  \n",
        "1  Argentina               AR  \n",
        "2    Armenia               AM  \n",
        "3    Belgium               BE  \n",
        "4    Belgium               BE  "
       ]
      }
     ],
     "prompt_number": 2
    },
    {
     "cell_type": "markdown",
     "metadata": {},
     "source": [
      "Well all be darn, this data is completely clean. It's a Christmas miracle. "
     ]
    },
    {
     "cell_type": "code",
     "collapsed": false,
     "input": [],
     "language": "python",
     "metadata": {},
     "outputs": []
    }
   ],
   "metadata": {}
  }
 ]
}