{
 "metadata": {
  "name": "",
  "signature": "sha256:d6dfb1b11cff2399988ea44fd235c504f03ec80380c4b51ba9c26e1bef66d67e"
 },
 "nbformat": 3,
 "nbformat_minor": 0,
 "worksheets": [
  {
   "cells": [
    {
     "cell_type": "code",
     "collapsed": false,
     "input": [
      "from pandas import read_csv\n",
      "import pandas as pd\n",
      "\n",
      "def getRandLatLon():\n",
      "    \"\"\"Grabs a random lat lon pair roughly inside the US\n",
      "    \"\"\"\n",
      "    return (random.uniform(26,49), random.uniform(-124,-73))\n",
      "\n",
      "def randomGeoData(fileName, howManyPoints):\n",
      "    \n",
      "    columns = [\"lat\", \"lon\",]\n",
      "    index = range(howManyPoints)\n",
      "    df = pd.DataFrame(index = index, columns=columns)\n",
      "    \n",
      "    for i in range(howManyPoints): \n",
      "        df.ix[i][\"lat\"] = getRandLatLon()[0]\n",
      "        df.ix[i][\"lon\"] = getRandLatLon()[1]\n",
      "    \n",
      "    df.to_csv(fileName + '.csv')\n",
      "    #df.to_json(orient='index',fileName + '.json')\n",
      "    \n",
      "randomGeoData(\"randomGeoData\", 20)"
     ],
     "language": "python",
     "metadata": {},
     "outputs": [],
     "prompt_number": 3
    },
    {
     "cell_type": "code",
     "collapsed": false,
     "input": [],
     "language": "python",
     "metadata": {},
     "outputs": []
    }
   ],
   "metadata": {}
  }
 ]
}