{
 "metadata": {
  "name": "",
  "signature": "sha256:673cfea3790fbed756cc83fda104992112c241561853a2b89cadd1e0d32407b3"
 },
 "nbformat": 3,
 "nbformat_minor": 0,
 "worksheets": [
  {
   "cells": [
    {
     "cell_type": "code",
     "collapsed": false,
     "input": [
      "from pandas import read_csv\n",
      "import pandas as pd\n",
      "data = read_csv(\"data/caPowerPlantData.csv\")\n",
      "data.head()"
     ],
     "language": "python",
     "metadata": {},
     "outputs": [
      {
       "html": [
        "<div style=\"max-height:1000px;max-width:1500px;overflow:auto;\">\n",
        "<table border=\"1\" class=\"dataframe\">\n",
        "  <thead>\n",
        "    <tr style=\"text-align: right;\">\n",
        "      <th></th>\n",
        "      <th>Unnamed: 0</th>\n",
        "      <th>Unnamed: 0.1</th>\n",
        "      <th>PLANT_NAME</th>\n",
        "      <th>ONLINE_MW</th>\n",
        "      <th>FACILITY</th>\n",
        "      <th>PRIMARY_FUEL</th>\n",
        "      <th>TECHNOLOGY</th>\n",
        "      <th>STATUS</th>\n",
        "      <th>location</th>\n",
        "      <th>lat</th>\n",
        "      <th>lon</th>\n",
        "      <th>address</th>\n",
        "    </tr>\n",
        "  </thead>\n",
        "  <tbody>\n",
        "    <tr>\n",
        "      <th>0</th>\n",
        "      <td> 0</td>\n",
        "      <td> 0</td>\n",
        "      <td>    Fall Creek</td>\n",
        "      <td>  2.2</td>\n",
        "      <td> Hydroelectric</td>\n",
        "      <td> WATER</td>\n",
        "      <td>                            HYDRO</td>\n",
        "      <td> OPERATIONAL</td>\n",
        "      <td> HORNBROOK+CA</td>\n",
        "      <td> 41.910139</td>\n",
        "      <td>-122.555858</td>\n",
        "      <td> Hornbrook, Ca</td>\n",
        "    </tr>\n",
        "    <tr>\n",
        "      <th>1</th>\n",
        "      <td> 1</td>\n",
        "      <td> 1</td>\n",
        "      <td>       Copco 1</td>\n",
        "      <td> 20.0</td>\n",
        "      <td> Hydroelectric</td>\n",
        "      <td> WATER</td>\n",
        "      <td> HYDRAULIC TURBINE - CONVENTIONAL</td>\n",
        "      <td> OPERATIONAL</td>\n",
        "      <td>  MONTAGUE+CA</td>\n",
        "      <td> 41.728198</td>\n",
        "      <td>-122.527801</td>\n",
        "      <td>  Montague, Ca</td>\n",
        "    </tr>\n",
        "    <tr>\n",
        "      <th>2</th>\n",
        "      <td> 2</td>\n",
        "      <td> 2</td>\n",
        "      <td>       Copco 2</td>\n",
        "      <td> 27.0</td>\n",
        "      <td> Hydroelectric</td>\n",
        "      <td> WATER</td>\n",
        "      <td> HYDRAULIC TURBINE - CONVENTIONAL</td>\n",
        "      <td> OPERATIONAL</td>\n",
        "      <td>  MONTAGUE+CA</td>\n",
        "      <td> 41.728198</td>\n",
        "      <td>-122.527801</td>\n",
        "      <td>  Montague, Ca</td>\n",
        "    </tr>\n",
        "    <tr>\n",
        "      <th>3</th>\n",
        "      <td> 3</td>\n",
        "      <td> 3</td>\n",
        "      <td>     Iron Gate</td>\n",
        "      <td> 18.0</td>\n",
        "      <td> Hydroelectric</td>\n",
        "      <td> WATER</td>\n",
        "      <td>                            HYDRO</td>\n",
        "      <td> OPERATIONAL</td>\n",
        "      <td> HORNBROOK+CA</td>\n",
        "      <td> 41.910139</td>\n",
        "      <td>-122.555858</td>\n",
        "      <td> Hornbrook, Ca</td>\n",
        "    </tr>\n",
        "    <tr>\n",
        "      <th>4</th>\n",
        "      <td> 4</td>\n",
        "      <td> 4</td>\n",
        "      <td> Prather Creek</td>\n",
        "      <td>  0.1</td>\n",
        "      <td> Hydroelectric</td>\n",
        "      <td> WATER</td>\n",
        "      <td>                              NaN</td>\n",
        "      <td> OPERATIONAL</td>\n",
        "      <td>   MACDOEL+CA</td>\n",
        "      <td> 41.826815</td>\n",
        "      <td>-122.005285</td>\n",
        "      <td>   Macdoel, Ca</td>\n",
        "    </tr>\n",
        "  </tbody>\n",
        "</table>\n",
        "</div>"
       ],
       "metadata": {},
       "output_type": "pyout",
       "prompt_number": 2,
       "text": [
        "   Unnamed: 0  Unnamed: 0.1     PLANT_NAME  ONLINE_MW       FACILITY  \\\n",
        "0           0             0     Fall Creek        2.2  Hydroelectric   \n",
        "1           1             1        Copco 1       20.0  Hydroelectric   \n",
        "2           2             2        Copco 2       27.0  Hydroelectric   \n",
        "3           3             3      Iron Gate       18.0  Hydroelectric   \n",
        "4           4             4  Prather Creek        0.1  Hydroelectric   \n",
        "\n",
        "  PRIMARY_FUEL                        TECHNOLOGY       STATUS      location  \\\n",
        "0        WATER                             HYDRO  OPERATIONAL  HORNBROOK+CA   \n",
        "1        WATER  HYDRAULIC TURBINE - CONVENTIONAL  OPERATIONAL   MONTAGUE+CA   \n",
        "2        WATER  HYDRAULIC TURBINE - CONVENTIONAL  OPERATIONAL   MONTAGUE+CA   \n",
        "3        WATER                             HYDRO  OPERATIONAL  HORNBROOK+CA   \n",
        "4        WATER                               NaN  OPERATIONAL    MACDOEL+CA   \n",
        "\n",
        "         lat         lon        address  \n",
        "0  41.910139 -122.555858  Hornbrook, Ca  \n",
        "1  41.728198 -122.527801   Montague, Ca  \n",
        "2  41.728198 -122.527801   Montague, Ca  \n",
        "3  41.910139 -122.555858  Hornbrook, Ca  \n",
        "4  41.826815 -122.005285    Macdoel, Ca  "
       ]
      }
     ],
     "prompt_number": 2
    },
    {
     "cell_type": "code",
     "collapsed": false,
     "input": [
      "types = set(data.FACILITY)"
     ],
     "language": "python",
     "metadata": {},
     "outputs": [],
     "prompt_number": 3
    },
    {
     "cell_type": "code",
     "collapsed": false,
     "input": [
      "types"
     ],
     "language": "python",
     "metadata": {},
     "outputs": [
      {
       "metadata": {},
       "output_type": "pyout",
       "prompt_number": 4,
       "text": [
        "{'COAL',\n",
        " 'GEOTHERMAL',\n",
        " 'HYDROELECTRIC',\n",
        " 'NUCLEAR',\n",
        " 'OIL/GAS',\n",
        " 'SOLAR',\n",
        " 'WIND',\n",
        " 'WTE'}"
       ]
      }
     ],
     "prompt_number": 4
    },
    {
     "cell_type": "code",
     "collapsed": false,
     "input": [
      "data.FACILITY = [tech.title() for tech in data.FACILITY]\n",
      "data.PLANT_NAME = [plant.title() for plant in data.PLANT_NAME]\n",
      "data['address'] = [loc.replace(\"+\",\", \").title() for loc in data.location]"
     ],
     "language": "python",
     "metadata": {},
     "outputs": [],
     "prompt_number": 23
    },
    {
     "cell_type": "code",
     "collapsed": false,
     "input": [
      "data.head()"
     ],
     "language": "python",
     "metadata": {},
     "outputs": [
      {
       "html": [
        "<div style=\"max-height:1000px;max-width:1500px;overflow:auto;\">\n",
        "<table border=\"1\" class=\"dataframe\">\n",
        "  <thead>\n",
        "    <tr style=\"text-align: right;\">\n",
        "      <th></th>\n",
        "      <th>Unnamed: 0</th>\n",
        "      <th>PLANT_NAME</th>\n",
        "      <th>ONLINE_MW</th>\n",
        "      <th>FACILITY</th>\n",
        "      <th>PRIMARY_FUEL</th>\n",
        "      <th>TECHNOLOGY</th>\n",
        "      <th>STATUS</th>\n",
        "      <th>location</th>\n",
        "      <th>lat</th>\n",
        "      <th>lon</th>\n",
        "      <th>address</th>\n",
        "    </tr>\n",
        "  </thead>\n",
        "  <tbody>\n",
        "    <tr>\n",
        "      <th>0</th>\n",
        "      <td> 0</td>\n",
        "      <td>    Fall Creek</td>\n",
        "      <td>  2.2</td>\n",
        "      <td> Hydroelectric</td>\n",
        "      <td> WATER</td>\n",
        "      <td>                            HYDRO</td>\n",
        "      <td> OPERATIONAL</td>\n",
        "      <td> HORNBROOK+CA</td>\n",
        "      <td> 41.910139</td>\n",
        "      <td>-122.555858</td>\n",
        "      <td> Hornbrook, Ca</td>\n",
        "    </tr>\n",
        "    <tr>\n",
        "      <th>1</th>\n",
        "      <td> 1</td>\n",
        "      <td>       Copco 1</td>\n",
        "      <td> 20.0</td>\n",
        "      <td> Hydroelectric</td>\n",
        "      <td> WATER</td>\n",
        "      <td> HYDRAULIC TURBINE - CONVENTIONAL</td>\n",
        "      <td> OPERATIONAL</td>\n",
        "      <td>  MONTAGUE+CA</td>\n",
        "      <td> 41.728198</td>\n",
        "      <td>-122.527801</td>\n",
        "      <td>  Montague, Ca</td>\n",
        "    </tr>\n",
        "    <tr>\n",
        "      <th>2</th>\n",
        "      <td> 2</td>\n",
        "      <td>       Copco 2</td>\n",
        "      <td> 27.0</td>\n",
        "      <td> Hydroelectric</td>\n",
        "      <td> WATER</td>\n",
        "      <td> HYDRAULIC TURBINE - CONVENTIONAL</td>\n",
        "      <td> OPERATIONAL</td>\n",
        "      <td>  MONTAGUE+CA</td>\n",
        "      <td> 41.728198</td>\n",
        "      <td>-122.527801</td>\n",
        "      <td>  Montague, Ca</td>\n",
        "    </tr>\n",
        "    <tr>\n",
        "      <th>3</th>\n",
        "      <td> 3</td>\n",
        "      <td>     Iron Gate</td>\n",
        "      <td> 18.0</td>\n",
        "      <td> Hydroelectric</td>\n",
        "      <td> WATER</td>\n",
        "      <td>                            HYDRO</td>\n",
        "      <td> OPERATIONAL</td>\n",
        "      <td> HORNBROOK+CA</td>\n",
        "      <td> 41.910139</td>\n",
        "      <td>-122.555858</td>\n",
        "      <td> Hornbrook, Ca</td>\n",
        "    </tr>\n",
        "    <tr>\n",
        "      <th>4</th>\n",
        "      <td> 4</td>\n",
        "      <td> Prather Creek</td>\n",
        "      <td>  0.1</td>\n",
        "      <td> Hydroelectric</td>\n",
        "      <td> WATER</td>\n",
        "      <td>                              NaN</td>\n",
        "      <td> OPERATIONAL</td>\n",
        "      <td>   MACDOEL+CA</td>\n",
        "      <td> 41.826815</td>\n",
        "      <td>-122.005285</td>\n",
        "      <td>   Macdoel, Ca</td>\n",
        "    </tr>\n",
        "  </tbody>\n",
        "</table>\n",
        "</div>"
       ],
       "metadata": {},
       "output_type": "pyout",
       "prompt_number": 24,
       "text": [
        "   Unnamed: 0     PLANT_NAME  ONLINE_MW       FACILITY PRIMARY_FUEL  \\\n",
        "0           0     Fall Creek        2.2  Hydroelectric        WATER   \n",
        "1           1        Copco 1       20.0  Hydroelectric        WATER   \n",
        "2           2        Copco 2       27.0  Hydroelectric        WATER   \n",
        "3           3      Iron Gate       18.0  Hydroelectric        WATER   \n",
        "4           4  Prather Creek        0.1  Hydroelectric        WATER   \n",
        "\n",
        "                         TECHNOLOGY       STATUS      location        lat  \\\n",
        "0                             HYDRO  OPERATIONAL  HORNBROOK+CA  41.910139   \n",
        "1  HYDRAULIC TURBINE - CONVENTIONAL  OPERATIONAL   MONTAGUE+CA  41.728198   \n",
        "2  HYDRAULIC TURBINE - CONVENTIONAL  OPERATIONAL   MONTAGUE+CA  41.728198   \n",
        "3                             HYDRO  OPERATIONAL  HORNBROOK+CA  41.910139   \n",
        "4                               NaN  OPERATIONAL    MACDOEL+CA  41.826815   \n",
        "\n",
        "          lon        address  \n",
        "0 -122.555858  Hornbrook, Ca  \n",
        "1 -122.527801   Montague, Ca  \n",
        "2 -122.527801   Montague, Ca  \n",
        "3 -122.555858  Hornbrook, Ca  \n",
        "4 -122.005285    Macdoel, Ca  "
       ]
      }
     ],
     "prompt_number": 24
    },
    {
     "cell_type": "code",
     "collapsed": false,
     "input": [
      "def make_api_string(term):\n",
      "    res = term.replace(\", \",\"+\")\n",
      "    return res"
     ],
     "language": "python",
     "metadata": {},
     "outputs": [
      {
       "metadata": {},
       "output_type": "pyout",
       "prompt_number": 14,
       "text": [
        "'This Is A Test'"
       ]
      }
     ],
     "prompt_number": 14
    },
    {
     "cell_type": "code",
     "collapsed": false,
     "input": [
      "\"HORNBROOK+CA\".replace(\"+\",\", \").title()"
     ],
     "language": "python",
     "metadata": {},
     "outputs": [
      {
       "metadata": {},
       "output_type": "pyout",
       "prompt_number": 19,
       "text": [
        "'Hornbrook, Ca'"
       ]
      }
     ],
     "prompt_number": 19
    },
    {
     "cell_type": "code",
     "collapsed": false,
     "input": [
      "types = set(data.FACILITY)\n",
      "types"
     ],
     "language": "python",
     "metadata": {},
     "outputs": [
      {
       "metadata": {},
       "output_type": "pyout",
       "prompt_number": 4,
       "text": [
        "{'Coal',\n",
        " 'Geothermal',\n",
        " 'Hydroelectric',\n",
        " 'Nuclear',\n",
        " 'Oil/Gas',\n",
        " 'Solar',\n",
        " 'Wind',\n",
        " 'Wte'}"
       ]
      }
     ],
     "prompt_number": 4
    },
    {
     "cell_type": "code",
     "collapsed": false,
     "input": [],
     "language": "python",
     "metadata": {},
     "outputs": []
    }
   ],
   "metadata": {}
  }
 ]
}